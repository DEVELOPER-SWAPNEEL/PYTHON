{
 "cells": [
  {
   "metadata": {
    "ExecuteTime": {
     "end_time": "2025-09-22T08:52:50.241111Z",
     "start_time": "2025-09-22T08:52:49.773602Z"
    }
   },
   "cell_type": "code",
   "source": [
    "import pandas as pd\n",
    "import numpy as np\n",
    "from sklearn.linear_model import LogisticRegression\n",
    "import matplotlib_inline as plt\n",
    "\n"
   ],
   "id": "9919c06097b7a268",
   "outputs": [],
   "execution_count": 3
  },
  {
   "metadata": {
    "ExecuteTime": {
     "end_time": "2025-09-22T09:13:18.635872Z",
     "start_time": "2025-09-22T09:13:18.632585Z"
    }
   },
   "cell_type": "code",
   "source": [
    "# Exercise\n",
    "#\n",
    "# Download employee retention dataset from here:\n",
    "# https://www.kaggle.com/giripujar/hr-analytics.\n",
    "#\n",
    "#1. Now do some exploratory data analysis to figure out which variables have direct and clear impact on employee retention (i.e. whether they leave the company or continue to work)\n",
    "# 2.Plot bar charts showing impact of employee salaries on retention\n",
    "# 3.Plot bar charts showing correlation between department and employee retention\n",
    "# 4.Now build logistic regression model using variables that were narrowed down in step1\n",
    "# 5.Measure the accuracy of the model"
   ],
   "id": "7eb957ff347678d7",
   "outputs": [],
   "execution_count": 5
  },
  {
   "metadata": {},
   "cell_type": "code",
   "outputs": [],
   "execution_count": null,
   "source": "",
   "id": "cd85d9cfafe3424e"
  }
 ],
 "metadata": {
  "kernelspec": {
   "display_name": "Python 3",
   "language": "python",
   "name": "python3"
  },
  "language_info": {
   "codemirror_mode": {
    "name": "ipython",
    "version": 2
   },
   "file_extension": ".py",
   "mimetype": "text/x-python",
   "name": "python",
   "nbconvert_exporter": "python",
   "pygments_lexer": "ipython2",
   "version": "2.7.6"
  }
 },
 "nbformat": 4,
 "nbformat_minor": 5
}

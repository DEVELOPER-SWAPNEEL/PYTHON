{
 "cells": [
  {
   "cell_type": "code",
   "id": "initial_id",
   "metadata": {
    "collapsed": true,
    "ExecuteTime": {
     "end_time": "2025-09-27T07:12:51.698662Z",
     "start_time": "2025-09-27T07:12:51.688266Z"
    }
   },
   "source": [
    "#  Naive Bayes: Exercise\n",
    "#\n",
    "# Use wine dataset from sklearn.datasets to classify wines into 3 categories. Load the dataset and split it into test and train. After that train the model using Gaussian and Multinominal classifier and post which model performs better. Use the trained model to perform some predictions on test data.\n",
    "from sklearn.datasets import load_wine\n",
    "wine = load_wine()\n",
    "X = wine.data\n",
    "y = wine.target\n",
    "from sklearn.model_selection import train_test_split\n",
    "X_train, X_test, y_train, y_test = train_test_split(X, y, test_size=0.2, random_state=42)\n",
    "from sklearn.naive_bayes import GaussianNB\n",
    "# from sklearn.pipeline import Pipeline\n",
    "from sklearn.naive_bayes import MultinomialNB\n",
    "X"
   ],
   "outputs": [
    {
     "data": {
      "text/plain": [
       "array([[1.423e+01, 1.710e+00, 2.430e+00, ..., 1.040e+00, 3.920e+00,\n",
       "        1.065e+03],\n",
       "       [1.320e+01, 1.780e+00, 2.140e+00, ..., 1.050e+00, 3.400e+00,\n",
       "        1.050e+03],\n",
       "       [1.316e+01, 2.360e+00, 2.670e+00, ..., 1.030e+00, 3.170e+00,\n",
       "        1.185e+03],\n",
       "       ...,\n",
       "       [1.327e+01, 4.280e+00, 2.260e+00, ..., 5.900e-01, 1.560e+00,\n",
       "        8.350e+02],\n",
       "       [1.317e+01, 2.590e+00, 2.370e+00, ..., 6.000e-01, 1.620e+00,\n",
       "        8.400e+02],\n",
       "       [1.413e+01, 4.100e+00, 2.740e+00, ..., 6.100e-01, 1.600e+00,\n",
       "        5.600e+02]], shape=(178, 13))"
      ]
     },
     "execution_count": 7,
     "metadata": {},
     "output_type": "execute_result"
    }
   ],
   "execution_count": 7
  },
  {
   "metadata": {
    "ExecuteTime": {
     "end_time": "2025-09-27T07:14:04.231566Z",
     "start_time": "2025-09-27T07:14:04.224743Z"
    }
   },
   "cell_type": "code",
   "source": [
    "model1=GaussianNB()\n",
    "model1.fit(X_train, y_train)\n",
    "model1.score(X_test, y_test)"
   ],
   "id": "908d1caa2f1170bd",
   "outputs": [
    {
     "data": {
      "text/plain": [
       "1.0"
      ]
     },
     "execution_count": 9,
     "metadata": {},
     "output_type": "execute_result"
    }
   ],
   "execution_count": 9
  },
  {
   "metadata": {
    "ExecuteTime": {
     "end_time": "2025-09-27T07:14:21.175992Z",
     "start_time": "2025-09-27T07:14:21.167221Z"
    }
   },
   "cell_type": "code",
   "source": [
    "model2=MultinomialNB()\n",
    "model2.fit(X_train, y_train)\n",
    "model2.score(X_test, y_test)"
   ],
   "id": "7c05e4281dc55fd4",
   "outputs": [
    {
     "data": {
      "text/plain": [
       "0.8888888888888888"
      ]
     },
     "execution_count": 10,
     "metadata": {},
     "output_type": "execute_result"
    }
   ],
   "execution_count": 10
  },
  {
   "metadata": {
    "ExecuteTime": {
     "end_time": "2025-09-27T07:17:12.957955Z",
     "start_time": "2025-09-27T07:17:12.952349Z"
    }
   },
   "cell_type": "code",
   "source": [
    "# Compare which is better\n",
    "print(\"GaussianNB Accuracy:\", model1.score(X_test, y_test))\n",
    "print(\"MultinomialNB Accuracy:\", model2.score(X_test, y_test))\n",
    "\n",
    "# Perform predictions on test data\n",
    "print(\"Gaussian predictions:\", model1.predict(X_test[:5]))\n",
    "print(\"Multinomial predictions:\", model2.predict(X_test[:5]))\n",
    "print(\"Actual labels:\", y_test[:5])"
   ],
   "id": "2b582337c3209e89",
   "outputs": [
    {
     "name": "stdout",
     "output_type": "stream",
     "text": [
      "GaussianNB Accuracy: 1.0\n",
      "MultinomialNB Accuracy: 0.8888888888888888\n",
      "Gaussian predictions: [0 0 2 0 1]\n",
      "Multinomial predictions: [0 0 2 0 1]\n",
      "Actual labels: [0 0 2 0 1]\n"
     ]
    }
   ],
   "execution_count": 11
  },
  {
   "metadata": {},
   "cell_type": "code",
   "outputs": [],
   "execution_count": null,
   "source": "",
   "id": "8c54435519b22ae"
  }
 ],
 "metadata": {
  "kernelspec": {
   "display_name": "Python 3",
   "language": "python",
   "name": "python3"
  },
  "language_info": {
   "codemirror_mode": {
    "name": "ipython",
    "version": 2
   },
   "file_extension": ".py",
   "mimetype": "text/x-python",
   "name": "python",
   "nbconvert_exporter": "python",
   "pygments_lexer": "ipython2",
   "version": "2.7.6"
  }
 },
 "nbformat": 4,
 "nbformat_minor": 5
}

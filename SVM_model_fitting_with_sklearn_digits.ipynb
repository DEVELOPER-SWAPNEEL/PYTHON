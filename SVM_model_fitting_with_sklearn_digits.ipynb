{
 "cells": [
  {
   "cell_type": "code",
   "id": "initial_id",
   "metadata": {
    "collapsed": true,
    "ExecuteTime": {
     "end_time": "2025-09-23T15:09:40.113587Z",
     "start_time": "2025-09-23T15:09:40.035597Z"
    }
   },
   "source": [
    "# Train SVM classifier using sklearn digits dataset (i.e. from sklearn.datasets import load_digits) and then,\n",
    "#\n",
    "# Measure accuracy of your model using different kernels such as rbf and linear.\n",
    "# Tune your model further using regularization and gamma parameters and try to come up with highest accurancy score\n",
    "# Use 80% of samples as training data size\n",
    "import pandas as pd\n",
    "from sklearn.model_selection import train_test_split\n",
    "from sklearn.datasets import load_digits\n",
    "\n",
    "digits = load_digits()\n",
    "from sklearn.svm import SVC\n",
    "from sklearn.metrics import accuracy_score"
   ],
   "outputs": [],
   "execution_count": 3
  },
  {
   "metadata": {
    "ExecuteTime": {
     "end_time": "2025-09-23T15:10:38.778170Z",
     "start_time": "2025-09-23T15:10:38.746674Z"
    }
   },
   "cell_type": "code",
   "source": [
    "X=digits.data\n",
    "y=digits.target\n",
    "X_train, X_test, y_train, y_test = train_test_split(X, y, test_size=0.2)\n",
    "clf = SVC(kernel='linear')\n",
    "clf.fit(X_train, y_train)\n",
    "clf.score(X_test, y_test)"
   ],
   "id": "7793c1929e86fc15",
   "outputs": [
    {
     "data": {
      "text/plain": [
       "0.9833333333333333"
      ]
     },
     "execution_count": 4,
     "metadata": {},
     "output_type": "execute_result"
    }
   ],
   "execution_count": 4
  },
  {
   "metadata": {
    "ExecuteTime": {
     "end_time": "2025-09-23T15:12:50.043215Z",
     "start_time": "2025-09-23T15:12:49.924703Z"
    }
   },
   "cell_type": "code",
   "source": [
    "svm_linear = SVC(kernel='linear')\n",
    "svm_linear.fit(X_train, y_train)\n",
    "y_pred_linear = svm_linear.predict(X_test)\n",
    "print(\"Accuracy with Linear Kernel:\", accuracy_score(y_test, y_pred_linear))\n",
    "\n",
    "svm_rbf = SVC(kernel='rbf')\n",
    "svm_rbf.fit(X_train, y_train)\n",
    "y_pred_rbf = svm_rbf.predict(X_test)\n",
    "print(\"Accuracy with RBF Kernel:\", accuracy_score(y_test, y_pred_rbf))\n",
    "\n",
    "svm_rbf_tuned = SVC(kernel='rbf', C=10, gamma=0.001)\n",
    "svm_rbf_tuned.fit(X_train, y_train)\n",
    "y_pred_rbf_tuned = svm_rbf_tuned.predict(X_test)\n",
    "print(\"Accuracy with Tuned RBF Kernel (C=10, gamma=0.001):\", accuracy_score(y_test, y_pred_rbf_tuned))"
   ],
   "id": "8b45dbef2f1bbf1f",
   "outputs": [
    {
     "name": "stdout",
     "output_type": "stream",
     "text": [
      "Accuracy with Linear Kernel: 0.9833333333333333\n",
      "Accuracy with RBF Kernel: 0.9916666666666667\n",
      "Accuracy with Tuned RBF Kernel (C=10, gamma=0.001): 0.9972222222222222\n"
     ]
    }
   ],
   "execution_count": 6
  },
  {
   "metadata": {},
   "cell_type": "code",
   "outputs": [],
   "execution_count": null,
   "source": "",
   "id": "c7a24564e4ddb8a8"
  }
 ],
 "metadata": {
  "kernelspec": {
   "display_name": "Python 3",
   "language": "python",
   "name": "python3"
  },
  "language_info": {
   "codemirror_mode": {
    "name": "ipython",
    "version": 2
   },
   "file_extension": ".py",
   "mimetype": "text/x-python",
   "name": "python",
   "nbconvert_exporter": "python",
   "pygments_lexer": "ipython2",
   "version": "2.7.6"
  }
 },
 "nbformat": 4,
 "nbformat_minor": 5
}

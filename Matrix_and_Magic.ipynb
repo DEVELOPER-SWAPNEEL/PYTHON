{
 "cells": [
  {
   "cell_type": "code",
   "id": "initial_id",
   "metadata": {
    "collapsed": true,
    "ExecuteTime": {
     "end_time": "2025-09-30T09:53:05.507579Z",
     "start_time": "2025-09-30T09:53:05.504445Z"
    }
   },
   "source": [
    "import numpy as np\n",
    "revenue = np.array([[180,200,220], [24, 36,40], [12,18,2011]])\n",
    "expenses = np.array ([[80,90,100], [10,16,20], [8, 10,10]])\n",
    "\n"
   ],
   "outputs": [],
   "execution_count": 3
  },
  {
   "metadata": {
    "ExecuteTime": {
     "end_time": "2025-09-30T09:53:35.399945Z",
     "start_time": "2025-09-30T09:53:35.393059Z"
    }
   },
   "cell_type": "code",
   "source": [
    "profit=revenue-expenses\n",
    "profit"
   ],
   "id": "7a4a96d95effd1d3",
   "outputs": [
    {
     "data": {
      "text/plain": [
       "array([[ 100,  110,  120],\n",
       "       [  14,   20,   20],\n",
       "       [   4,    8, 2001]])"
      ]
     },
     "execution_count": 5,
     "metadata": {},
     "output_type": "execute_result"
    }
   ],
   "execution_count": 5
  },
  {
   "metadata": {
    "ExecuteTime": {
     "end_time": "2025-09-30T09:56:29.045978Z",
     "start_time": "2025-09-30T09:56:29.041619Z"
    }
   },
   "cell_type": "code",
   "source": [
    "\n",
    "price_per_unit = np.array ([1000,400,1200])\n",
    "units = np.array([[30,40,50], [5,10, 15], [2,5,7]])\n",
    "earning=price_per_unit*units\n",
    "earning"
   ],
   "id": "3c14d5361a03e98b",
   "outputs": [
    {
     "data": {
      "text/plain": [
       "array([[30000, 16000, 60000],\n",
       "       [ 5000,  4000, 18000],\n",
       "       [ 2000,  2000,  8400]])"
      ]
     },
     "execution_count": 7,
     "metadata": {},
     "output_type": "execute_result"
    }
   ],
   "execution_count": 7
  },
  {
   "metadata": {
    "ExecuteTime": {
     "end_time": "2025-09-30T09:57:13.526991Z",
     "start_time": "2025-09-30T09:57:13.518840Z"
    }
   },
   "cell_type": "code",
   "source": [
    "#now calculating the dot product\n",
    "np.dot(price_per_unit,units)"
   ],
   "id": "ef4496c8bcfd6775",
   "outputs": [
    {
     "data": {
      "text/plain": [
       "array([34400, 50000, 64400])"
      ]
     },
     "execution_count": 8,
     "metadata": {},
     "output_type": "execute_result"
    }
   ],
   "execution_count": 8
  }
 ],
 "metadata": {
  "kernelspec": {
   "display_name": "Python 3",
   "language": "python",
   "name": "python3"
  },
  "language_info": {
   "codemirror_mode": {
    "name": "ipython",
    "version": 2
   },
   "file_extension": ".py",
   "mimetype": "text/x-python",
   "name": "python",
   "nbconvert_exporter": "python",
   "pygments_lexer": "ipython2",
   "version": "2.7.6"
  }
 },
 "nbformat": 4,
 "nbformat_minor": 5
}

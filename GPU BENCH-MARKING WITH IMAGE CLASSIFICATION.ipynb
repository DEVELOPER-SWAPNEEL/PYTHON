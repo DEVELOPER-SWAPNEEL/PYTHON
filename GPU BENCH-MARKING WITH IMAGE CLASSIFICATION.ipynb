{
 "cells": [
  {
   "cell_type": "code",
   "id": "initial_id",
   "metadata": {
    "collapsed": true,
    "ExecuteTime": {
     "end_time": "2025-10-08T10:41:54.840323Z",
     "start_time": "2025-10-08T10:41:54.819164Z"
    }
   },
   "source": [
    "import tensorflow as tf\n",
    "import matplotlib.pyplot as plt\n",
    "\n",
    "%matplotlib inline\n",
    "from tensorflow import keras\n"
   ],
   "outputs": [],
   "execution_count": 2
  },
  {
   "metadata": {
    "ExecuteTime": {
     "end_time": "2025-10-08T10:41:54.848287Z",
     "start_time": "2025-10-08T10:41:54.845247Z"
    }
   },
   "cell_type": "code",
   "source": "tf.config.experimental.list_physical_devices()\n",
   "id": "5bd5906bbcae1d0b",
   "outputs": [
    {
     "data": {
      "text/plain": [
       "[PhysicalDevice(name='/physical_device:CPU:0', device_type='CPU')]"
      ]
     },
     "execution_count": 3,
     "metadata": {},
     "output_type": "execute_result"
    }
   ],
   "execution_count": 3
  },
  {
   "metadata": {
    "ExecuteTime": {
     "end_time": "2025-10-08T10:41:54.858092Z",
     "start_time": "2025-10-08T10:41:54.855642Z"
    }
   },
   "cell_type": "code",
   "source": "tf.test.is_built_with_cuda()\n",
   "id": "bc15de7d2461ec79",
   "outputs": [
    {
     "data": {
      "text/plain": [
       "False"
      ]
     },
     "execution_count": 4,
     "metadata": {},
     "output_type": "execute_result"
    }
   ],
   "execution_count": 4
  },
  {
   "metadata": {
    "ExecuteTime": {
     "end_time": "2025-10-08T10:41:55.548764Z",
     "start_time": "2025-10-08T10:41:54.862980Z"
    }
   },
   "cell_type": "code",
   "source": "(X_train, y_train), (X_test,y_test) = tf.keras.datasets.cifar10.load_data()",
   "id": "1eb2761178174444",
   "outputs": [],
   "execution_count": 5
  },
  {
   "metadata": {
    "ExecuteTime": {
     "end_time": "2025-10-08T10:41:55.554893Z",
     "start_time": "2025-10-08T10:41:55.552624Z"
    }
   },
   "cell_type": "code",
   "source": [
    "#I will only be using CPUs capabilities for the classification of the images getting downloaded from cs.toronto and we will be using :\n",
    "# We are using 60000 small images for classification. These images can be  classified in one of the 10 categories below,\n",
    "# classes = [\"airplane\",\"automobile\",\"bird\",\"cat\",\"deer\",\"dog\",\"frog\",\"horse\",\"ship\",\"truck\"]\n",
    "# We will use simple artificial neural network (we are not using CNN, usually CNN is preferred for image classification , with simple ANN that still gives pretty high accuracy).\n",
    "X_train.shape"
   ],
   "id": "2ca20a6319fc01e1",
   "outputs": [
    {
     "data": {
      "text/plain": [
       "(50000, 32, 32, 3)"
      ]
     },
     "execution_count": 6,
     "metadata": {},
     "output_type": "execute_result"
    }
   ],
   "execution_count": 6
  },
  {
   "metadata": {
    "ExecuteTime": {
     "end_time": "2025-10-08T10:41:55.570208Z",
     "start_time": "2025-10-08T10:41:55.567983Z"
    }
   },
   "cell_type": "code",
   "source": "y_train.shape",
   "id": "f18aa8272ca19d49",
   "outputs": [
    {
     "data": {
      "text/plain": [
       "(50000, 1)"
      ]
     },
     "execution_count": 7,
     "metadata": {},
     "output_type": "execute_result"
    }
   ],
   "execution_count": 7
  },
  {
   "metadata": {
    "ExecuteTime": {
     "end_time": "2025-10-08T10:41:55.580483Z",
     "start_time": "2025-10-08T10:41:55.577637Z"
    }
   },
   "cell_type": "code",
   "source": "y_train[0:10]",
   "id": "83983e3d5739262f",
   "outputs": [
    {
     "data": {
      "text/plain": [
       "array([[6],\n",
       "       [9],\n",
       "       [9],\n",
       "       [4],\n",
       "       [1],\n",
       "       [1],\n",
       "       [2],\n",
       "       [7],\n",
       "       [8],\n",
       "       [3]], dtype=uint8)"
      ]
     },
     "execution_count": 8,
     "metadata": {},
     "output_type": "execute_result"
    }
   ],
   "execution_count": 8
  },
  {
   "metadata": {
    "ExecuteTime": {
     "end_time": "2025-10-08T10:41:55.651498Z",
     "start_time": "2025-10-08T10:41:55.610906Z"
    }
   },
   "cell_type": "code",
   "source": [
    "#as we know y_train contains all the results of x_test. Now for proper visualization we will be defining a new function for plotting new graphs and then visualizing them to have a conclusive result\n",
    "def plot_sample(index):\n",
    "    plt.figure(figsize=(10,1))\n",
    "    plt.imshow(X_train[index])\n",
    "plot_sample(0)"
   ],
   "id": "d3b0e4e3180f7102",
   "outputs": [
    {
     "data": {
      "text/plain": [
       "<Figure size 1000x100 with 1 Axes>"
      ],
      "image/png": "[encoded data removed]"
     },
     "metadata": {},
     "output_type": "display_data",
     "jetTransient": {
      "display_id": null
     }
    }
   ],
   "execution_count": 9
  },
  {
   "metadata": {
    "ExecuteTime": {
     "end_time": "2025-10-08T10:41:55.684043Z",
     "start_time": "2025-10-08T10:41:55.681022Z"
    }
   },
   "cell_type": "code",
   "source": [
    "#the above image is of a frog and as we know in y_test:\n",
    "y_train[0]"
   ],
   "id": "a88a70d0095fe101",
   "outputs": [
    {
     "data": {
      "text/plain": [
       "array([6], dtype=uint8)"
      ]
     },
     "execution_count": 10,
     "metadata": {},
     "output_type": "execute_result"
    }
   ],
   "execution_count": 10
  },
  {
   "metadata": {
    "ExecuteTime": {
     "end_time": "2025-10-08T10:41:55.844739Z",
     "start_time": "2025-10-08T10:41:55.695868Z"
    }
   },
   "cell_type": "code",
   "source": [
    "#hence we successfully visually verified the frog image as y_train =6 and 6 is the no. denoted to the class FROG\n",
    "def full_range_plot(index):\n",
    "    for i in range(index):\n",
    "        plt.figure(figsize=(2,2))\n",
    "        plt.imshow(X_train[i])\n",
    "        plt.title(f\"Index: {i} | Label: {y_train[i]}\")\n",
    "        plt.axis('off')\n",
    "full_range_plot(10)"
   ],
   "id": "bcbe6b005011827b",
   "outputs": [
    {
     "data": {
      "text/plain": [
       "<Figure size 200x200 with 1 Axes>"
      ],
      "image/png": "[encoded data removed]"
     },
     "metadata": {},
     "output_type": "display_data",
     "jetTransient": {
      "display_id": null
     }
    },
    {
     "data": {
      "text/plain": [
       "<Figure size 200x200 with 1 Axes>"
      ],
      "image/png": "[encoded data removed]"
     },
     "metadata": {},
     "output_type": "display_data",
     "jetTransient": {
      "display_id": null
     }
    },
    {
     "data": {
      "text/plain": [
       "<Figure size 200x200 with 1 Axes>"
      ],
      "image/png": "[encoded data removed]"
     },
     "metadata": {},
     "output_type": "display_data",
     "jetTransient": {
      "display_id": null
     }
    },
    {
     "data": {
      "text/plain": [
       "<Figure size 200x200 with 1 Axes>"
      ],
      "image/png": "[encoded data removed]"
     },
     "metadata": {},
     "output_type": "display_data",
     "jetTransient": {
      "display_id": null
     }
    },
    {
     "data": {
      "text/plain": [
       "<Figure size 200x200 with 1 Axes>"
      ],
      "image/png": "[encoded data removed]"
     },
     "metadata": {},
     "output_type": "display_data",
     "jetTransient": {
      "display_id": null
     }
    },
    {
     "data": {
      "text/plain": [
       "<Figure size 200x200 with 1 Axes>"
      ],
      "image/png": "[encoded data removed]"
     },
     "metadata": {},
     "output_type": "display_data",
     "jetTransient": {
      "display_id": null
     }
    },
    {
     "data": {
      "text/plain": [
       "<Figure size 200x200 with 1 Axes>"
      ],
      "image/png": "[encoded data removed]"
     },
     "metadata": {},
     "output_type": "display_data",
     "jetTransient": {
      "display_id": null
     }
    },
    {
     "data": {
      "text/plain": [
       "<Figure size 200x200 with 1 Axes>"
      ],
      "image/png": "[encoded data removed]"
     },
     "metadata": {},
     "output_type": "display_data",
     "jetTransient": {
      "display_id": null
     }
    },
    {
     "data": {
      "text/plain": [
       "<Figure size 200x200 with 1 Axes>"
      ],
      "image/png": "[encoded data removed]"
     },
     "metadata": {},
     "output_type": "display_data",
     "jetTransient": {
      "display_id": null
     }
    },
    {
     "data": {
      "text/plain": [
       "<Figure size 200x200 with 1 Axes>"
      ],
      "image/png": "[encoded data removed]"
     },
     "metadata": {},
     "output_type": "display_data",
     "jetTransient": {
      "display_id": null
     }
    }
   ],
   "execution_count": 11
  },
  {
   "metadata": {
    "ExecuteTime": {
     "end_time": "2025-10-08T10:41:55.851394Z",
     "start_time": "2025-10-08T10:41:55.849846Z"
    }
   },
   "cell_type": "code",
   "source": [
    "#now i made it into an array of classes including all index wise image classification\n",
    "classes = [\"airplane\", \"automobile\", \"bird\", \"cat\", \"deer\", \"dog\", \"frog\", \"horse\", \"ship\", \"truck\"]"
   ],
   "id": "a9783280abce6613",
   "outputs": [],
   "execution_count": 12
  },
  {
   "metadata": {
    "ExecuteTime": {
     "end_time": "2025-10-08T10:41:55.877372Z",
     "start_time": "2025-10-08T10:41:55.853624Z"
    }
   },
   "cell_type": "code",
   "source": "plot_sample(0)",
   "id": "ebabc1253bcd6daa",
   "outputs": [
    {
     "data": {
      "text/plain": [
       "<Figure size 1000x100 with 1 Axes>"
      ],
      "image/png": "[encoded data removed]"
     },
     "metadata": {},
     "output_type": "display_data",
     "jetTransient": {
      "display_id": null
     }
    }
   ],
   "execution_count": 13
  },
  {
   "metadata": {
    "ExecuteTime": {
     "end_time": "2025-10-08T10:41:55.886087Z",
     "start_time": "2025-10-08T10:41:55.883890Z"
    }
   },
   "cell_type": "code",
   "source": "classes[y_train[0][0]]",
   "id": "ffbbcbc32e3ba7d5",
   "outputs": [
    {
     "data": {
      "text/plain": [
       "'frog'"
      ]
     },
     "execution_count": 14,
     "metadata": {},
     "output_type": "execute_result"
    }
   ],
   "execution_count": 14
  },
  {
   "metadata": {
    "ExecuteTime": {
     "end_time": "2025-10-08T10:41:56.080331Z",
     "start_time": "2025-10-08T10:41:55.890773Z"
    }
   },
   "cell_type": "code",
   "source": [
    "#Now scaling the images for better classification score, Since we do have at most 255 pixel count hence we can divide the samples to have scaled versions for each\n",
    "X_train_scaled = X_train / 255\n",
    "X_test_scaled = X_test / 255"
   ],
   "id": "d85ab5c185f193e1",
   "outputs": [],
   "execution_count": 15
  },
  {
   "metadata": {
    "ExecuteTime": {
     "end_time": "2025-10-08T10:41:56.088763Z",
     "start_time": "2025-10-08T10:41:56.085289Z"
    }
   },
   "cell_type": "code",
   "source": [
    "#There we go for categorical encoding\n",
    "y_train_categorical = keras.utils.to_categorical(\n",
    "    y_train, num_classes=10\n",
    ")\n",
    "y_train_categorical[:5]"
   ],
   "id": "c6092ef53ba8dfbe",
   "outputs": [
    {
     "data": {
      "text/plain": [
       "array([[0., 0., 0., 0., 0., 0., 1., 0., 0., 0.],\n",
       "       [0., 0., 0., 0., 0., 0., 0., 0., 0., 1.],\n",
       "       [0., 0., 0., 0., 0., 0., 0., 0., 0., 1.],\n",
       "       [0., 0., 0., 0., 1., 0., 0., 0., 0., 0.],\n",
       "       [0., 1., 0., 0., 0., 0., 0., 0., 0., 0.]])"
      ]
     },
     "execution_count": 16,
     "metadata": {},
     "output_type": "execute_result"
    }
   ],
   "execution_count": 16
  },
  {
   "metadata": {
    "ExecuteTime": {
     "end_time": "2025-10-08T10:41:56.117646Z",
     "start_time": "2025-10-08T10:41:56.115210Z"
    }
   },
   "cell_type": "code",
   "source": [
    "y_test_categorical = keras.utils.to_categorical(\n",
    "    y_test, num_classes=10\n",
    ")\n",
    "y_test_categorical"
   ],
   "id": "4d637d0fb01ec027",
   "outputs": [
    {
     "data": {
      "text/plain": [
       "array([[0., 0., 0., ..., 0., 0., 0.],\n",
       "       [0., 0., 0., ..., 0., 1., 0.],\n",
       "       [0., 0., 0., ..., 0., 1., 0.],\n",
       "       ...,\n",
       "       [0., 0., 0., ..., 0., 0., 0.],\n",
       "       [0., 1., 0., ..., 0., 0., 0.],\n",
       "       [0., 0., 0., ..., 1., 0., 0.]], shape=(10000, 10))"
      ]
     },
     "execution_count": 17,
     "metadata": {},
     "output_type": "execute_result"
    }
   ],
   "execution_count": 17
  },
  {
   "metadata": {
    "ExecuteTime": {
     "end_time": "2025-10-08T10:41:56.316395Z",
     "start_time": "2025-10-08T10:41:56.313123Z"
    }
   },
   "cell_type": "code",
   "source": "X_train_scaled.shape",
   "id": "e7b0ca70909c4611",
   "outputs": [
    {
     "data": {
      "text/plain": [
       "(50000, 32, 32, 3)"
      ]
     },
     "execution_count": 18,
     "metadata": {},
     "output_type": "execute_result"
    }
   ],
   "execution_count": 18
  },
  {
   "metadata": {
    "ExecuteTime": {
     "end_time": "2025-10-08T10:41:56.330434Z",
     "start_time": "2025-10-08T10:41:56.327039Z"
    }
   },
   "cell_type": "code",
   "source": "y_train_categorical",
   "id": "6350c3337dd91d90",
   "outputs": [
    {
     "data": {
      "text/plain": [
       "array([[0., 0., 0., ..., 0., 0., 0.],\n",
       "       [0., 0., 0., ..., 0., 0., 1.],\n",
       "       [0., 0., 0., ..., 0., 0., 1.],\n",
       "       ...,\n",
       "       [0., 0., 0., ..., 0., 0., 1.],\n",
       "       [0., 1., 0., ..., 0., 0., 0.],\n",
       "       [0., 1., 0., ..., 0., 0., 0.]], shape=(50000, 10))"
      ]
     },
     "execution_count": 19,
     "metadata": {},
     "output_type": "execute_result"
    }
   ],
   "execution_count": 19
  },
  {
   "metadata": {
    "ExecuteTime": {
     "end_time": "2025-10-08T10:51:38.693797Z",
     "start_time": "2025-10-08T10:41:56.360269Z"
    }
   },
   "cell_type": "code",
   "source": [
    "#Now we will be creating an ANN: Artificial Neural Network using keras sequential model\n",
    "model=keras.Sequential([\n",
    "    #since we do have this data into a matrix and we need this into a flattened 1D array hence to do it we will use keras flattening APIs\n",
    "    keras.layers.Flatten(input_shape=(32,32,3)),\n",
    "    keras.layers.Dense(3000,activation='relu'),\n",
    "    keras.layers.Dense(1000,activation='relu'),\n",
    "    #For the output layer of 10 final classification outputs\n",
    "    keras.layers.Dense(10, activation='sigmoid')\n",
    "])\n",
    "model.compile(optimizer='SGD',\n",
    "              loss='binary_crossentropy',\n",
    "              metrics=['accuracy'])\n",
    "model.fit(X_train_scaled, y_train_categorical,epochs=25)"
   ],
   "id": "25a84006df242c4",
   "outputs": [
    {
     "name": "stderr",
     "output_type": "stream",
     "text": [
      "/Library/Frameworks/Python.framework/Versions/3.13/lib/python3.13/site-packages/keras/src/layers/reshaping/flatten.py:37: UserWarning: Do not pass an `input_shape`/`input_dim` argument to a layer. When using Sequential models, prefer using an `Input(shape)` object as the first layer in the model instead.\n",
      "  super().__init__(**kwargs)\n"
     ]
    },
    {
     "name": "stdout",
     "output_type": "stream",
     "text": [
      "Epoch 1/25\n",
      "\u001B[1m1563/1563\u001B[0m \u001B[32m━━━━━━━━━━━━━━━━━━━━\u001B[0m\u001B[37m\u001B[0m \u001B[1m21s\u001B[0m 14ms/step - accuracy: 0.2968 - loss: 0.3041\n",
      "Epoch 2/25\n",
      "\u001B[1m1563/1563\u001B[0m \u001B[32m━━━━━━━━━━━━━━━━━━━━\u001B[0m\u001B[37m\u001B[0m \u001B[1m21s\u001B[0m 14ms/step - accuracy: 0.3617 - loss: 0.2819\n",
      "Epoch 3/25\n",
      "\u001B[1m1563/1563\u001B[0m \u001B[32m━━━━━━━━━━━━━━━━━━━━\u001B[0m\u001B[37m\u001B[0m \u001B[1m21s\u001B[0m 13ms/step - accuracy: 0.3784 - loss: 0.2738\n",
      "Epoch 4/25\n",
      "\u001B[1m1563/1563\u001B[0m \u001B[32m━━━━━━━━━━━━━━━━━━━━\u001B[0m\u001B[37m\u001B[0m \u001B[1m22s\u001B[0m 14ms/step - accuracy: 0.3956 - loss: 0.2681\n",
      "Epoch 5/25\n",
      "\u001B[1m1563/1563\u001B[0m \u001B[32m━━━━━━━━━━━━━━━━━━━━\u001B[0m\u001B[37m\u001B[0m \u001B[1m25s\u001B[0m 16ms/step - accuracy: 0.4047 - loss: 0.2636\n",
      "Epoch 6/25\n",
      "\u001B[1m1563/1563\u001B[0m \u001B[32m━━━━━━━━━━━━━━━━━━━━\u001B[0m\u001B[37m\u001B[0m \u001B[1m25s\u001B[0m 16ms/step - accuracy: 0.4157 - loss: 0.2597\n",
      "Epoch 7/25\n",
      "\u001B[1m1563/1563\u001B[0m \u001B[32m━━━━━━━━━━━━━━━━━━━━\u001B[0m\u001B[37m\u001B[0m \u001B[1m26s\u001B[0m 16ms/step - accuracy: 0.4233 - loss: 0.2564\n",
      "Epoch 8/25\n",
      "\u001B[1m1563/1563\u001B[0m \u001B[32m━━━━━━━━━━━━━━━━━━━━\u001B[0m\u001B[37m\u001B[0m \u001B[1m23s\u001B[0m 15ms/step - accuracy: 0.4315 - loss: 0.2533\n",
      "Epoch 9/25\n",
      "\u001B[1m1563/1563\u001B[0m \u001B[32m━━━━━━━━━━━━━━━━━━━━\u001B[0m\u001B[37m\u001B[0m \u001B[1m23s\u001B[0m 15ms/step - accuracy: 0.4361 - loss: 0.2506\n",
      "Epoch 10/25\n",
      "\u001B[1m1563/1563\u001B[0m \u001B[32m━━━━━━━━━━━━━━━━━━━━\u001B[0m\u001B[37m\u001B[0m \u001B[1m23s\u001B[0m 14ms/step - accuracy: 0.4441 - loss: 0.2482\n",
      "Epoch 11/25\n",
      "\u001B[1m1563/1563\u001B[0m \u001B[32m━━━━━━━━━━━━━━━━━━━━\u001B[0m\u001B[37m\u001B[0m \u001B[1m23s\u001B[0m 15ms/step - accuracy: 0.4498 - loss: 0.2459\n",
      "Epoch 12/25\n",
      "\u001B[1m1563/1563\u001B[0m \u001B[32m━━━━━━━━━━━━━━━━━━━━\u001B[0m\u001B[37m\u001B[0m \u001B[1m23s\u001B[0m 15ms/step - accuracy: 0.4552 - loss: 0.2438\n",
      "Epoch 13/25\n",
      "\u001B[1m1563/1563\u001B[0m \u001B[32m━━━━━━━━━━━━━━━━━━━━\u001B[0m\u001B[37m\u001B[0m \u001B[1m23s\u001B[0m 15ms/step - accuracy: 0.4599 - loss: 0.2419\n",
      "Epoch 14/25\n",
      "\u001B[1m1563/1563\u001B[0m \u001B[32m━━━━━━━━━━━━━━━━━━━━\u001B[0m\u001B[37m\u001B[0m \u001B[1m23s\u001B[0m 15ms/step - accuracy: 0.4653 - loss: 0.2401\n",
      "Epoch 15/25\n",
      "\u001B[1m1563/1563\u001B[0m \u001B[32m━━━━━━━━━━━━━━━━━━━━\u001B[0m\u001B[37m\u001B[0m \u001B[1m24s\u001B[0m 15ms/step - accuracy: 0.4692 - loss: 0.2385\n",
      "Epoch 16/25\n",
      "\u001B[1m1563/1563\u001B[0m \u001B[32m━━━━━━━━━━━━━━━━━━━━\u001B[0m\u001B[37m\u001B[0m \u001B[1m23s\u001B[0m 15ms/step - accuracy: 0.4740 - loss: 0.2369\n",
      "Epoch 17/25\n",
      "\u001B[1m1563/1563\u001B[0m \u001B[32m━━━━━━━━━━━━━━━━━━━━\u001B[0m\u001B[37m\u001B[0m \u001B[1m23s\u001B[0m 15ms/step - accuracy: 0.4758 - loss: 0.2354\n",
      "Epoch 18/25\n",
      "\u001B[1m1563/1563\u001B[0m \u001B[32m━━━━━━━━━━━━━━━━━━━━\u001B[0m\u001B[37m\u001B[0m \u001B[1m23s\u001B[0m 15ms/step - accuracy: 0.4804 - loss: 0.2339\n",
      "Epoch 19/25\n",
      "\u001B[1m1563/1563\u001B[0m \u001B[32m━━━━━━━━━━━━━━━━━━━━\u001B[0m\u001B[37m\u001B[0m \u001B[1m23s\u001B[0m 15ms/step - accuracy: 0.4847 - loss: 0.2325\n",
      "Epoch 20/25\n",
      "\u001B[1m1563/1563\u001B[0m \u001B[32m━━━━━━━━━━━━━━━━━━━━\u001B[0m\u001B[37m\u001B[0m \u001B[1m23s\u001B[0m 15ms/step - accuracy: 0.4899 - loss: 0.2312\n",
      "Epoch 21/25\n",
      "\u001B[1m1563/1563\u001B[0m \u001B[32m━━━━━━━━━━━━━━━━━━━━\u001B[0m\u001B[37m\u001B[0m \u001B[1m26s\u001B[0m 17ms/step - accuracy: 0.4928 - loss: 0.2299\n",
      "Epoch 22/25\n",
      "\u001B[1m1563/1563\u001B[0m \u001B[32m━━━━━━━━━━━━━━━━━━━━\u001B[0m\u001B[37m\u001B[0m \u001B[1m24s\u001B[0m 15ms/step - accuracy: 0.4961 - loss: 0.2286\n",
      "Epoch 23/25\n",
      "\u001B[1m1563/1563\u001B[0m \u001B[32m━━━━━━━━━━━━━━━━━━━━\u001B[0m\u001B[37m\u001B[0m \u001B[1m23s\u001B[0m 15ms/step - accuracy: 0.4981 - loss: 0.2274\n",
      "Epoch 24/25\n",
      "\u001B[1m1563/1563\u001B[0m \u001B[32m━━━━━━━━━━━━━━━━━━━━\u001B[0m\u001B[37m\u001B[0m \u001B[1m23s\u001B[0m 15ms/step - accuracy: 0.5013 - loss: 0.2261\n",
      "Epoch 25/25\n",
      "\u001B[1m1563/1563\u001B[0m \u001B[32m━━━━━━━━━━━━━━━━━━━━\u001B[0m\u001B[37m\u001B[0m \u001B[1m24s\u001B[0m 15ms/step - accuracy: 0.5051 - loss: 0.2251\n"
     ]
    },
    {
     "data": {
      "text/plain": [
       "<keras.src.callbacks.history.History at 0x136b28050>"
      ]
     },
     "execution_count": 20,
     "metadata": {},
     "output_type": "execute_result"
    }
   ],
   "execution_count": 20
  },
  {
   "metadata": {
    "ExecuteTime": {
     "end_time": "2025-10-08T10:53:56.002375Z",
     "start_time": "2025-10-08T10:53:54.404595Z"
    }
   },
   "cell_type": "code",
   "source": [
    "import numpy as np\n",
    "np.argmax(model.predict(X_test_scaled)[0])"
   ],
   "id": "1e31dc5cda2354f4",
   "outputs": [
    {
     "name": "stdout",
     "output_type": "stream",
     "text": [
      "\u001B[1m313/313\u001B[0m \u001B[32m━━━━━━━━━━━━━━━━━━━━\u001B[0m\u001B[37m\u001B[0m \u001B[1m1s\u001B[0m 5ms/step\n"
     ]
    },
    {
     "data": {
      "text/plain": [
       "np.int64(3)"
      ]
     },
     "execution_count": 23,
     "metadata": {},
     "output_type": "execute_result"
    }
   ],
   "execution_count": 23
  },
  {
   "metadata": {
    "ExecuteTime": {
     "end_time": "2025-10-08T10:55:30.329063Z",
     "start_time": "2025-10-08T10:55:30.326127Z"
    }
   },
   "cell_type": "code",
   "source": "classes[y_test[0][0]]",
   "id": "cca65210b44d4ebc",
   "outputs": [
    {
     "data": {
      "text/plain": [
       "'cat'"
      ]
     },
     "execution_count": 28,
     "metadata": {},
     "output_type": "execute_result"
    }
   ],
   "execution_count": 28
  },
  {
   "metadata": {
    "ExecuteTime": {
     "end_time": "2025-10-08T10:55:57.835166Z",
     "start_time": "2025-10-08T10:55:56.239654Z"
    }
   },
   "cell_type": "code",
   "source": "classes[np.argmax(model.predict(X_test_scaled)[0])]",
   "id": "3061adcd68f02e4",
   "outputs": [
    {
     "name": "stdout",
     "output_type": "stream",
     "text": [
      "\u001B[1m313/313\u001B[0m \u001B[32m━━━━━━━━━━━━━━━━━━━━\u001B[0m\u001B[37m\u001B[0m \u001B[1m1s\u001B[0m 4ms/step\n"
     ]
    },
    {
     "data": {
      "text/plain": [
       "'cat'"
      ]
     },
     "execution_count": 29,
     "metadata": {},
     "output_type": "execute_result"
    }
   ],
   "execution_count": 29
  },
  {
   "metadata": {
    "ExecuteTime": {
     "end_time": "2025-10-08T10:56:43.798343Z",
     "start_time": "2025-10-08T10:56:42.209425Z"
    }
   },
   "cell_type": "code",
   "source": "model.evaluate(X_test_scaled, y_test_categorical)",
   "id": "20d75374823a8224",
   "outputs": [
    {
     "name": "stdout",
     "output_type": "stream",
     "text": [
      "\u001B[1m313/313\u001B[0m \u001B[32m━━━━━━━━━━━━━━━━━━━━\u001B[0m\u001B[37m\u001B[0m \u001B[1m1s\u001B[0m 5ms/step - accuracy: 0.4825 - loss: 0.2299\n"
     ]
    },
    {
     "data": {
      "text/plain": [
       "[0.22988715767860413, 0.48249998688697815]"
      ]
     },
     "execution_count": 31,
     "metadata": {},
     "output_type": "execute_result"
    }
   ],
   "execution_count": 31
  },
  {
   "metadata": {
    "ExecuteTime": {
     "end_time": "2025-10-08T10:58:19.634390Z",
     "start_time": "2025-10-08T10:58:19.627818Z"
    }
   },
   "cell_type": "code",
   "source": [
    "def get_model():\n",
    "    model = keras.Sequential([\n",
    "    keras. layers. Flatten(input_shape=(32,32,3)),\n",
    "        keras.layers.Dense(3000, activation='relu'),\n",
    "        keras. layers.Dense(1000, activation='relu'),\n",
    "        keras. layers.Dense(10, activation='sigmoid')\n",
    "    ])\n",
    "    model.compile(optimizer='SGD',\n",
    "        loss= 'categorical_crossentropy',\n",
    "        metrics=['accuracy'])\n",
    "    return model"
   ],
   "id": "792ad587c5a67f2b",
   "outputs": [],
   "execution_count": 32
  },
  {
   "metadata": {
    "ExecuteTime": {
     "end_time": "2025-10-08T11:04:29.323441Z",
     "start_time": "2025-10-08T11:03:17.342614Z"
    }
   },
   "cell_type": "code",
   "source": [
    "#Now we will be running the classification using cpu internals\n",
    "import time\n",
    "import tensorflow as tf\n",
    "\n",
    "start = time.time()  # start timer\n",
    "\n",
    "with tf.device(\"/CPU:0\"):\n",
    "    cpu_model = get_model()\n",
    "    cpu_model.fit(\n",
    "        X_train_scaled,\n",
    "        y_train_categorical,\n",
    "        epochs=2,\n",
    "        batch_size=64,\n",
    "        verbose=1\n",
    "    )\n",
    "\n",
    "end = time.time()  # end timer\n",
    "print(f\"\\n🕒 Total training time on CPU: {end - start:.2f} seconds\")\n",
    "\n",
    "with tf.device(\"/CPU:0\"):\n",
    "    cpu_model = get_model()\n",
    "    cpu_model.fit(X_train_scaled, y_train_categorical,epochs=2)"
   ],
   "id": "f83b259c09377a37",
   "outputs": [
    {
     "name": "stderr",
     "output_type": "stream",
     "text": [
      "/Library/Frameworks/Python.framework/Versions/3.13/lib/python3.13/site-packages/keras/src/layers/reshaping/flatten.py:37: UserWarning: Do not pass an `input_shape`/`input_dim` argument to a layer. When using Sequential models, prefer using an `Input(shape)` object as the first layer in the model instead.\n",
      "  super().__init__(**kwargs)\n"
     ]
    },
    {
     "name": "stdout",
     "output_type": "stream",
     "text": [
      "Epoch 1/2\n",
      "\u001B[1m782/782\u001B[0m \u001B[32m━━━━━━━━━━━━━━━━━━━━\u001B[0m\u001B[37m\u001B[0m \u001B[1m14s\u001B[0m 17ms/step - accuracy: 0.3381 - loss: 1.8625\n",
      "Epoch 2/2\n",
      "\u001B[1m782/782\u001B[0m \u001B[32m━━━━━━━━━━━━━━━━━━━━\u001B[0m\u001B[37m\u001B[0m \u001B[1m14s\u001B[0m 19ms/step - accuracy: 0.4068 - loss: 1.6840\n",
      "\n",
      "🕒 Total training time on CPU: 29.06 seconds\n",
      "Epoch 1/2\n",
      "\u001B[1m1563/1563\u001B[0m \u001B[32m━━━━━━━━━━━━━━━━━━━━\u001B[0m\u001B[37m\u001B[0m \u001B[1m22s\u001B[0m 14ms/step - accuracy: 0.3537 - loss: 1.8092\n",
      "Epoch 2/2\n",
      "\u001B[1m1563/1563\u001B[0m \u001B[32m━━━━━━━━━━━━━━━━━━━━\u001B[0m\u001B[37m\u001B[0m \u001B[1m21s\u001B[0m 13ms/step - accuracy: 0.4323 - loss: 1.6192\n"
     ]
    }
   ],
   "execution_count": 35
  },
  {
   "metadata": {},
   "cell_type": "code",
   "outputs": [],
   "execution_count": null,
   "source": "",
   "id": "d69cf04493f5882"
  }
 ],
 "metadata": {
  "kernelspec": {
   "display_name": "Python 3",
   "language": "python",
   "name": "python3"
  },
  "language_info": {
   "codemirror_mode": {
    "name": "ipython",
    "version": 2
   },
   "file_extension": ".py",
   "mimetype": "text/x-python",
   "name": "python",
   "nbconvert_exporter": "python",
   "pygments_lexer": "ipython2",
   "version": "2.7.6"
  }
 },
 "nbformat": 4,
 "nbformat_minor": 5
}

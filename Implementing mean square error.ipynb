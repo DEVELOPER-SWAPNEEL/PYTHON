{
 "cells": [
  {
   "cell_type": "code",
   "id": "initial_id",
   "metadata": {
    "collapsed": true,
    "ExecuteTime": {
     "end_time": "2025-09-30T10:40:03.422976Z",
     "start_time": "2025-09-30T10:40:03.416284Z"
    }
   },
   "source": [
    "# Implement mean squared error (or MSE) in two ways,\n",
    "#\n",
    "# Without using numpy (i.e. using plain python)\n",
    "#\n",
    "# With the use of numpy\n",
    "import numpy as np\n",
    "from keras.src.losses import mean_squared_error\n",
    "\n",
    "y_predicted = np.array([1, 1, 0, 0, 1])\n",
    "y_true = np.array([0.30, 0.7, 1, 0, 0.5])\n",
    "def mse(y_true, y_predicted):\n",
    "    total_error=0\n",
    "    for yt,yp in zip(y_true, y_predicted):\n",
    "        total_error += (yt-yp)**2\n",
    "    print(\"Total error:\", total_error)\n",
    "    mean_squared_err=total_error/len(y_true)\n",
    "    print(\"Mean squared error:\", mean_squared_err)\n",
    "    return mean_squared_err\n",
    "mse(y_true, y_predicted)"
   ],
   "outputs": [
    {
     "name": "stdout",
     "output_type": "stream",
     "text": [
      "Total error: 1.83\n",
      "Mean squared error: 0.366\n"
     ]
    },
    {
     "data": {
      "text/plain": [
       "np.float64(0.366)"
      ]
     },
     "execution_count": 2,
     "metadata": {},
     "output_type": "execute_result"
    }
   ],
   "execution_count": 2
  },
  {
   "metadata": {
    "ExecuteTime": {
     "end_time": "2025-09-30T10:42:08.031272Z",
     "start_time": "2025-09-30T10:42:08.026775Z"
    }
   },
   "cell_type": "code",
   "source": "np.mean(np.abs(y_predicted - y_true)**2)",
   "id": "82a632e73e3bf23c",
   "outputs": [
    {
     "data": {
      "text/plain": [
       "np.float64(0.366)"
      ]
     },
     "execution_count": 5,
     "metadata": {},
     "output_type": "execute_result"
    }
   ],
   "execution_count": 5
  },
  {
   "metadata": {},
   "cell_type": "code",
   "outputs": [],
   "execution_count": null,
   "source": "",
   "id": "8c8e16c69fe23658"
  }
 ],
 "metadata": {
  "kernelspec": {
   "display_name": "Python 3",
   "language": "python",
   "name": "python3"
  },
  "language_info": {
   "codemirror_mode": {
    "name": "ipython",
    "version": 2
   },
   "file_extension": ".py",
   "mimetype": "text/x-python",
   "name": "python",
   "nbconvert_exporter": "python",
   "pygments_lexer": "ipython2",
   "version": "2.7.6"
  }
 },
 "nbformat": 4,
 "nbformat_minor": 5
}

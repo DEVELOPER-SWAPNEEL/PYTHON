{
 "cells": [
  {
   "cell_type": "code",
   "id": "initial_id",
   "metadata": {
    "collapsed": true,
    "ExecuteTime": {
     "end_time": "2025-09-30T10:14:14.472276Z",
     "start_time": "2025-09-30T10:14:14.464991Z"
    }
   },
   "source": [
    "import numpy as np\n",
    "y_predicted = np. array ([1,1,0,0,1])\n",
    "y_true = np.array([0.30,0.7,1,0,0.5])\n",
    "def mae(y_true, y_predicted) :\n",
    "    total_error = 0\n",
    "    for yt, yp in zip (y_true, y_predicted):\n",
    "        total_error += abs (yt - yp)\n",
    "    print(\"Total error:\", total_error)\n",
    "    mae = total_error / len (y_true)\n",
    "    print (\"MAE:\", mae)\n",
    "    return mae\n",
    "mae (y_true, y_predicted)"
   ],
   "outputs": [
    {
     "name": "stdout",
     "output_type": "stream",
     "text": [
      "Total error: 2.5\n",
      "MAE: 0.5\n"
     ]
    },
    {
     "data": {
      "text/plain": [
       "np.float64(0.5)"
      ]
     },
     "execution_count": 2,
     "metadata": {},
     "output_type": "execute_result"
    }
   ],
   "execution_count": 2
  },
  {
   "metadata": {
    "ExecuteTime": {
     "end_time": "2025-09-30T10:14:37.631497Z",
     "start_time": "2025-09-30T10:14:37.626345Z"
    }
   },
   "cell_type": "code",
   "source": "np.mean(np.abs(y_predicted - y_true))",
   "id": "cbf2a0169925afa",
   "outputs": [
    {
     "data": {
      "text/plain": [
       "np.float64(0.5)"
      ]
     },
     "execution_count": 3,
     "metadata": {},
     "output_type": "execute_result"
    }
   ],
   "execution_count": 3
  },
  {
   "metadata": {
    "ExecuteTime": {
     "end_time": "2025-09-30T10:20:59.014570Z",
     "start_time": "2025-09-30T10:20:59.010286Z"
    }
   },
   "cell_type": "code",
   "source": [
    "epsilon=1e-15\n",
    "y_predicted_new=[max(i,epsilon) for i in y_predicted]\n",
    "y_predicted_new"
   ],
   "id": "afed461f1638ddef",
   "outputs": [
    {
     "data": {
      "text/plain": [
       "[np.int64(1), np.int64(1), 1e-15, 1e-15, np.int64(1)]"
      ]
     },
     "execution_count": 7,
     "metadata": {},
     "output_type": "execute_result"
    }
   ],
   "execution_count": 7
  },
  {
   "metadata": {
    "ExecuteTime": {
     "end_time": "2025-09-30T10:20:59.651561Z",
     "start_time": "2025-09-30T10:20:59.646589Z"
    }
   },
   "cell_type": "code",
   "source": [
    "y_predicted_new=[min(i,1-epsilon) for i in y_predicted_new]\n",
    "y_predicted_new"
   ],
   "id": "82fc7ea925cabd7d",
   "outputs": [
    {
     "data": {
      "text/plain": [
       "[0.999999999999999, 0.999999999999999, 1e-15, 1e-15, 0.999999999999999]"
      ]
     },
     "execution_count": 8,
     "metadata": {},
     "output_type": "execute_result"
    }
   ],
   "execution_count": 8
  },
  {
   "metadata": {
    "ExecuteTime": {
     "end_time": "2025-09-30T10:21:19.199116Z",
     "start_time": "2025-09-30T10:21:19.191822Z"
    }
   },
   "cell_type": "code",
   "source": "np.log(y_predicted_new)",
   "id": "9ddf59043f5dc06c",
   "outputs": [
    {
     "data": {
      "text/plain": [
       "array([-9.99200722e-16, -9.99200722e-16, -3.45387764e+01, -3.45387764e+01,\n",
       "       -9.99200722e-16])"
      ]
     },
     "execution_count": 9,
     "metadata": {},
     "output_type": "execute_result"
    }
   ],
   "execution_count": 9
  },
  {
   "metadata": {
    "ExecuteTime": {
     "end_time": "2025-09-30T10:31:35.918044Z",
     "start_time": "2025-09-30T10:31:35.913938Z"
    }
   },
   "cell_type": "code",
   "source": [
    "def log_loss (y_true, Y_predicted):\n",
    "    epsilon = 1e-15\n",
    "    y_predicted_new = [max(i,epsilon) for i in y_predicted]\n",
    "    y_predicted_new = [min(i,1-epsilon) for i in y_predicted_new]\n",
    "    y_predicted_new = np.array(y_predicted_new)\n",
    "    return -np.mean (y_true*np.log(y_predicted_new)+(1-y_true)*np. log(1-y_predicted_new))"
   ],
   "id": "f44bcff058595270",
   "outputs": [],
   "execution_count": 16
  },
  {
   "metadata": {
    "ExecuteTime": {
     "end_time": "2025-09-30T10:31:47.871998Z",
     "start_time": "2025-09-30T10:31:47.869109Z"
    }
   },
   "cell_type": "code",
   "source": "log_loss(y_true, y_predicted)",
   "id": "c83d09ae998fe89a",
   "outputs": [
    {
     "data": {
      "text/plain": [
       "np.float64(17.2696280766844)"
      ]
     },
     "execution_count": 17,
     "metadata": {},
     "output_type": "execute_result"
    }
   ],
   "execution_count": 17
  },
  {
   "metadata": {},
   "cell_type": "code",
   "outputs": [],
   "execution_count": null,
   "source": "",
   "id": "21953f044d5da633"
  }
 ],
 "metadata": {
  "kernelspec": {
   "display_name": "Python 3",
   "language": "python",
   "name": "python3"
  },
  "language_info": {
   "codemirror_mode": {
    "name": "ipython",
    "version": 2
   },
   "file_extension": ".py",
   "mimetype": "text/x-python",
   "name": "python",
   "nbconvert_exporter": "python",
   "pygments_lexer": "ipython2",
   "version": "2.7.6"
  }
 },
 "nbformat": 4,
 "nbformat_minor": 5
}

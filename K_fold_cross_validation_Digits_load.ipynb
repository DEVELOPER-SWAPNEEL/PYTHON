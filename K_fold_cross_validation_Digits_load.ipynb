{
 "cells": [
  {
   "metadata": {
    "ExecuteTime": {
     "end_time": "2025-09-26T03:57:58.776141Z",
     "start_time": "2025-09-26T03:57:58.716072Z"
    }
   },
   "cell_type": "code",
   "source": [
    "from sklearn. linear_model import LogisticRegression\n",
    "from sklearn.svm import SVC\n",
    "from sklearn.ensemble import RandomForestClassifier\n",
    "import numpy as np\n",
    "from sklearn.datasets import load_digits\n",
    "\n",
    "digits=load_digits()\n",
    "#here we are just spliting the data set into train and test then applying diff. classification models and extracting the most accurate one using k_fold evaluation model\n",
    "\n",
    "from sklearn.model_selection import train_test_split\n",
    "X_train,X_test,y_train,y_test = train_test_split(digits.data,digits.target,test_size=0.2)\n",
    "\n",
    "model=LogisticRegression(max_iter=200)\n",
    "model.fit(X_train,y_train)\n",
    "model.score(X_test,y_test)"
   ],
   "id": "94f90d8d05fdc990",
   "outputs": [
    {
     "data": {
      "text/plain": [
       "0.9777777777777777"
      ]
     },
     "execution_count": 7,
     "metadata": {},
     "output_type": "execute_result"
    }
   ],
   "execution_count": 7
  },
  {
   "metadata": {
    "ExecuteTime": {
     "end_time": "2025-09-26T03:58:43.583869Z",
     "start_time": "2025-09-26T03:58:43.526510Z"
    }
   },
   "cell_type": "code",
   "source": [
    "svm_model=SVC()\n",
    "svm_model.fit(X_train,y_train)\n",
    "svm_model.score(X_test,y_test)"
   ],
   "id": "2d4b0f6aa319bc80",
   "outputs": [
    {
     "data": {
      "text/plain": [
       "0.9916666666666667"
      ]
     },
     "execution_count": 8,
     "metadata": {},
     "output_type": "execute_result"
    }
   ],
   "execution_count": 8
  },
  {
   "metadata": {
    "ExecuteTime": {
     "end_time": "2025-09-26T03:59:21.658212Z",
     "start_time": "2025-09-26T03:59:21.468898Z"
    }
   },
   "cell_type": "code",
   "source": [
    "rain_forest_model=RandomForestClassifier()\n",
    "rain_forest_model.fit(X_train,y_train)\n",
    "rain_forest_model.score(X_test,y_test)"
   ],
   "id": "c0b66c652104485a",
   "outputs": [
    {
     "data": {
      "text/plain": [
       "0.9694444444444444"
      ]
     },
     "execution_count": 9,
     "metadata": {},
     "output_type": "execute_result"
    }
   ],
   "execution_count": 9
  },
  {
   "metadata": {
    "ExecuteTime": {
     "end_time": "2025-09-26T04:23:32.622414Z",
     "start_time": "2025-09-26T04:23:32.575986Z"
    }
   },
   "cell_type": "code",
   "source": [
    "#the problem with train_test_split is that it randomly just divides samples hence with recursive running of the code we encounter that at different iterations we get different scores. to solve this we use a more optimised model called as k_fold cross validation model\n",
    "from sklearn.model_selection import KFold\n",
    "kf = KFold(n_splits=3, shuffle=True, random_state=42)\n",
    "#in the above line we have divided the sample into 3 parts\n",
    "\n",
    "#now we have created a function what will directly test the score of a model\n",
    "def get_score(model, X_train, X_test, y_train, y_test) :\n",
    "    model.fit(X_train, y_train)\n",
    "    return model.score (X_test, y_test)\n",
    "#for eg:\n",
    "get_score(LogisticRegression(max_iter=200),X_train,X_test,y_train,y_test)"
   ],
   "id": "f93fdfe16647370e",
   "outputs": [
    {
     "data": {
      "text/plain": [
       "0.9148580968280468"
      ]
     },
     "execution_count": 24,
     "metadata": {},
     "output_type": "execute_result"
    }
   ],
   "execution_count": 24
  },
  {
   "metadata": {
    "ExecuteTime": {
     "end_time": "2025-09-26T04:28:44.762850Z",
     "start_time": "2025-09-26T04:28:44.086976Z"
    }
   },
   "cell_type": "code",
   "source": [
    "#Stratified fold:- now splitting the samples into a new train test\n",
    "scores_LR =[]\n",
    "scores_svm =[]\n",
    "scores_rf=[]\n",
    "for train_index, test_index in kf.split(digits.data):\n",
    "    X_train, X_test = digits.data[train_index], digits.data[test_index]\n",
    "    y_train, y_test = digits.target[train_index], digits.target[test_index]\n",
    "\n",
    "    # Append inside loop\n",
    "    scores_LR.append(get_score(LogisticRegression(max_iter=200), X_train, X_test, y_train, y_test))\n",
    "    scores_svm.append(get_score(SVC(), X_train, X_test, y_train, y_test))\n",
    "    scores_rf.append(get_score(RandomForestClassifier(), X_train, X_test, y_train, y_test))\n",
    "\n",
    "print(get_score(LogisticRegression(max_iter=200), X_train, X_test, y_train, y_test))\n",
    "\n",
    "#cross_val score model does the exact upper code portion automatically"
   ],
   "id": "2806ecb5424647ef",
   "outputs": [
    {
     "name": "stdout",
     "output_type": "stream",
     "text": [
      "0.9148580968280468\n"
     ]
    }
   ],
   "execution_count": 29
  },
  {
   "metadata": {
    "ExecuteTime": {
     "end_time": "2025-09-26T04:28:48.650607Z",
     "start_time": "2025-09-26T04:28:48.646566Z"
    }
   },
   "cell_type": "code",
   "source": "print(scores_LR)",
   "id": "cb1fdac6ef12413",
   "outputs": [
    {
     "name": "stdout",
     "output_type": "stream",
     "text": [
      "[0.9248747913188647, 0.9432387312186978, 0.9148580968280468]\n"
     ]
    }
   ],
   "execution_count": 30
  },
  {
   "metadata": {
    "ExecuteTime": {
     "end_time": "2025-09-26T04:29:07.975345Z",
     "start_time": "2025-09-26T04:29:07.972067Z"
    }
   },
   "cell_type": "code",
   "source": [
    "print(\"Logistic Regression Scores:\", scores_LR, \"Average:\", np.mean(scores_LR))\n",
    "print(\"SVM Scores:\", scores_svm, \"Average:\", np.mean(scores_svm))\n",
    "print(\"Random Forest Scores:\", scores_rf, \"Average:\", np.mean(scores_rf))"
   ],
   "id": "d00e2a38f3391c56",
   "outputs": [
    {
     "name": "stdout",
     "output_type": "stream",
     "text": [
      "Logistic Regression Scores: [0.9248747913188647, 0.9432387312186978, 0.9148580968280468] Average: 0.9276572064552031\n",
      "SVM Scores: [0.9666110183639399, 0.9816360601001669, 0.9549248747913188] Average: 0.9677239844184752\n",
      "Random Forest Scores: [0.9398998330550918, 0.9465776293823038, 0.9265442404006677] Average: 0.9376739009460211\n"
     ]
    }
   ],
   "execution_count": 31
  },
  {
   "metadata": {
    "ExecuteTime": {
     "end_time": "2025-09-26T04:31:14.553210Z",
     "start_time": "2025-09-26T04:31:14.452508Z"
    }
   },
   "cell_type": "code",
   "source": [
    "from sklearn.model_selection import cross_val_score\n",
    "cross_val_score(LogisticRegression(max_iter=200), digits.data, digits.target, cv=3)"
   ],
   "id": "646485df1b23abb7",
   "outputs": [
    {
     "data": {
      "text/plain": [
       "array([0.91986644, 0.94323873, 0.91652755])"
      ]
     },
     "execution_count": 33,
     "metadata": {},
     "output_type": "execute_result"
    }
   ],
   "execution_count": 33
  },
  {
   "metadata": {},
   "cell_type": "code",
   "outputs": [],
   "execution_count": null,
   "source": "",
   "id": "1ef3d63e9bdc9e60"
  }
 ],
 "metadata": {
  "kernelspec": {
   "display_name": "Python 3",
   "language": "python",
   "name": "python3"
  },
  "language_info": {
   "codemirror_mode": {
    "name": "ipython",
    "version": 2
   },
   "file_extension": ".py",
   "mimetype": "text/x-python",
   "name": "python",
   "nbconvert_exporter": "python",
   "pygments_lexer": "ipython2",
   "version": "2.7.6"
  }
 },
 "nbformat": 4,
 "nbformat_minor": 5
}

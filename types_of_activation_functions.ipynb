{
 "cells": [
  {
   "cell_type": "code",
   "execution_count": null,
   "id": "initial_id",
   "metadata": {
    "collapsed": true
   },
   "outputs": [],
   "source": [
    "import math\n",
    "def sigmoid(x):\n",
    "    return 1 / (1 + math.exp(-x))\n",
    "def tanh(x):\n",
    "    return math.tanh(x)\n",
    "def relu(x):\n",
    "    return max(0, x)\n",
    "def relu6(x):\n",
    "    return max(0, 6 * x)\n",
    "def tanh6(x):\n",
    "    return math.tanh(6 * x)\n",
    "def sigmoid6(x):\n",
    "    return 1 / (1 + math.exp(-6 * x))\n",
    "def stepfunction(x):\n",
    "    return max(0,x)\n"
   ]
  },
  {
   "metadata": {},
   "cell_type": "code",
   "outputs": [],
   "execution_count": null,
   "source": "",
   "id": "ca480210af4e0c6b"
  }
 ],
 "metadata": {
  "kernelspec": {
   "display_name": "Python 3",
   "language": "python",
   "name": "python3"
  },
  "language_info": {
   "codemirror_mode": {
    "name": "ipython",
    "version": 2
   },
   "file_extension": ".py",
   "mimetype": "text/x-python",
   "name": "python",
   "nbconvert_exporter": "python",
   "pygments_lexer": "ipython2",
   "version": "2.7.6"
  }
 },
 "nbformat": 4,
 "nbformat_minor": 5
}
